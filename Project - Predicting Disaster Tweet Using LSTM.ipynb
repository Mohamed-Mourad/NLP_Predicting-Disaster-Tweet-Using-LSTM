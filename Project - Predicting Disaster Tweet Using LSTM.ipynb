{
 "cells": [
  {
   "cell_type": "code",
   "execution_count": 1,
   "id": "4a1409cb",
   "metadata": {},
   "outputs": [
    {
     "name": "stderr",
     "output_type": "stream",
     "text": [
      "[nltk_data] Downloading package stopwords to\n",
      "[nltk_data]     C:\\Users\\Moham\\AppData\\Roaming\\nltk_data...\n",
      "[nltk_data]   Package stopwords is already up-to-date!\n"
     ]
    },
    {
     "data": {
      "text/plain": [
       "True"
      ]
     },
     "execution_count": 1,
     "metadata": {},
     "output_type": "execute_result"
    }
   ],
   "source": [
    "import numpy as np \n",
    "import pandas as pd\n",
    "\n",
    "import re\n",
    "import string\n",
    "from itertools import islice\n",
    "\n",
    "import nltk\n",
    "from nltk.corpus import twitter_samples\n",
    "\n",
    "from nltk.corpus import stopwords\n",
    "stop_words = stopwords.words('english')\n",
    "\n",
    "from nltk.tokenize import TweetTokenizer\n",
    "from nltk.stem import PorterStemmer\n",
    "\n",
    "from sklearn.model_selection import train_test_split, GridSearchCV\n",
    "from sklearn.linear_model import LogisticRegression\n",
    "from sklearn.tree import DecisionTreeClassifier\n",
    "from sklearn.ensemble import RandomForestClassifier, BaggingClassifier, AdaBoostClassifier\n",
    "from sklearn.naive_bayes import GaussianNB\n",
    "from sklearn.neighbors import KNeighborsClassifier\n",
    "from sklearn.svm import SVC\n",
    "from xgboost import XGBClassifier\n",
    "from sklearn.metrics import accuracy_score, f1_score, make_scorer\n",
    "\n",
    "import missingno as msnum\n",
    "\n",
    "import operator\n",
    "\n",
    "nltk.download('stopwords')"
   ]
  },
  {
   "cell_type": "code",
   "execution_count": 2,
   "id": "8b06e8b8",
   "metadata": {},
   "outputs": [
    {
     "data": {
      "text/html": [
       "<div>\n",
       "<style scoped>\n",
       "    .dataframe tbody tr th:only-of-type {\n",
       "        vertical-align: middle;\n",
       "    }\n",
       "\n",
       "    .dataframe tbody tr th {\n",
       "        vertical-align: top;\n",
       "    }\n",
       "\n",
       "    .dataframe thead th {\n",
       "        text-align: right;\n",
       "    }\n",
       "</style>\n",
       "<table border=\"1\" class=\"dataframe\">\n",
       "  <thead>\n",
       "    <tr style=\"text-align: right;\">\n",
       "      <th></th>\n",
       "      <th>id</th>\n",
       "      <th>keyword</th>\n",
       "      <th>location</th>\n",
       "      <th>text</th>\n",
       "      <th>target</th>\n",
       "    </tr>\n",
       "  </thead>\n",
       "  <tbody>\n",
       "    <tr>\n",
       "      <th>0</th>\n",
       "      <td>1</td>\n",
       "      <td>NaN</td>\n",
       "      <td>NaN</td>\n",
       "      <td>Our Deeds are the Reason of this #earthquake M...</td>\n",
       "      <td>1</td>\n",
       "    </tr>\n",
       "    <tr>\n",
       "      <th>1</th>\n",
       "      <td>4</td>\n",
       "      <td>NaN</td>\n",
       "      <td>NaN</td>\n",
       "      <td>Forest fire near La Ronge Sask. Canada</td>\n",
       "      <td>1</td>\n",
       "    </tr>\n",
       "    <tr>\n",
       "      <th>2</th>\n",
       "      <td>5</td>\n",
       "      <td>NaN</td>\n",
       "      <td>NaN</td>\n",
       "      <td>All residents asked to 'shelter in place' are ...</td>\n",
       "      <td>1</td>\n",
       "    </tr>\n",
       "    <tr>\n",
       "      <th>3</th>\n",
       "      <td>6</td>\n",
       "      <td>NaN</td>\n",
       "      <td>NaN</td>\n",
       "      <td>13,000 people receive #wildfires evacuation or...</td>\n",
       "      <td>1</td>\n",
       "    </tr>\n",
       "    <tr>\n",
       "      <th>4</th>\n",
       "      <td>7</td>\n",
       "      <td>NaN</td>\n",
       "      <td>NaN</td>\n",
       "      <td>Just got sent this photo from Ruby #Alaska as ...</td>\n",
       "      <td>1</td>\n",
       "    </tr>\n",
       "  </tbody>\n",
       "</table>\n",
       "</div>"
      ],
      "text/plain": [
       "   id keyword location                                               text  \\\n",
       "0   1     NaN      NaN  Our Deeds are the Reason of this #earthquake M...   \n",
       "1   4     NaN      NaN             Forest fire near La Ronge Sask. Canada   \n",
       "2   5     NaN      NaN  All residents asked to 'shelter in place' are ...   \n",
       "3   6     NaN      NaN  13,000 people receive #wildfires evacuation or...   \n",
       "4   7     NaN      NaN  Just got sent this photo from Ruby #Alaska as ...   \n",
       "\n",
       "   target  \n",
       "0       1  \n",
       "1       1  \n",
       "2       1  \n",
       "3       1  \n",
       "4       1  "
      ]
     },
     "execution_count": 2,
     "metadata": {},
     "output_type": "execute_result"
    }
   ],
   "source": [
    "df = pd.read_csv('train.csv')\n",
    "df.head()"
   ]
  },
  {
   "cell_type": "code",
   "execution_count": 3,
   "id": "c0ad990e",
   "metadata": {},
   "outputs": [
    {
     "name": "stdout",
     "output_type": "stream",
     "text": [
      "<class 'pandas.core.frame.DataFrame'>\n",
      "RangeIndex: 7613 entries, 0 to 7612\n",
      "Data columns (total 5 columns):\n",
      " #   Column    Non-Null Count  Dtype \n",
      "---  ------    --------------  ----- \n",
      " 0   id        7613 non-null   int64 \n",
      " 1   keyword   7552 non-null   object\n",
      " 2   location  5080 non-null   object\n",
      " 3   text      7613 non-null   object\n",
      " 4   target    7613 non-null   int64 \n",
      "dtypes: int64(2), object(3)\n",
      "memory usage: 297.5+ KB\n"
     ]
    }
   ],
   "source": [
    "#gaining some insight on data\n",
    "\n",
    "df.info()"
   ]
  },
  {
   "cell_type": "code",
   "execution_count": 4,
   "id": "1e889b7d",
   "metadata": {},
   "outputs": [
    {
     "data": {
      "text/plain": [
       "id          False\n",
       "keyword      True\n",
       "location     True\n",
       "text        False\n",
       "target      False\n",
       "dtype: bool"
      ]
     },
     "execution_count": 4,
     "metadata": {},
     "output_type": "execute_result"
    }
   ],
   "source": [
    "#cheching if there is nulls, we already know there is nulls from df.info() but this is easier to read\n",
    "\n",
    "df.isnull().any()"
   ]
  },
  {
   "cell_type": "code",
   "execution_count": 5,
   "id": "43a3d04f",
   "metadata": {},
   "outputs": [
    {
     "data": {
      "text/plain": [
       "id             0\n",
       "keyword       61\n",
       "location    2533\n",
       "text           0\n",
       "target         0\n",
       "dtype: int64"
      ]
     },
     "execution_count": 5,
     "metadata": {},
     "output_type": "execute_result"
    }
   ],
   "source": [
    "#number of nulls for each column\n",
    "\n",
    "df.isnull().sum()"
   ]
  },
  {
   "cell_type": "code",
   "execution_count": 6,
   "id": "b6e94d90",
   "metadata": {},
   "outputs": [
    {
     "data": {
      "text/plain": [
       "id           0.00\n",
       "keyword      0.80\n",
       "location    33.27\n",
       "text         0.00\n",
       "target       0.00\n",
       "dtype: float64"
      ]
     },
     "execution_count": 6,
     "metadata": {},
     "output_type": "execute_result"
    }
   ],
   "source": [
    "#percentage of nulls for each column\n",
    "\n",
    "round((((df.isnull().sum())/len(df.index))*100),2)"
   ]
  },
  {
   "cell_type": "code",
   "execution_count": 7,
   "id": "30285f43",
   "metadata": {},
   "outputs": [
    {
     "data": {
      "text/plain": [
       "<AxesSubplot:>"
      ]
     },
     "execution_count": 7,
     "metadata": {},
     "output_type": "execute_result"
    },
    {
     "data": {
      "image/png": "[encoded data removed]",
      "text/plain": [
       "<Figure size 1800x720 with 2 Axes>"
      ]
     },
     "metadata": {
      "needs_background": "light"
     },
     "output_type": "display_data"
    }
   ],
   "source": [
    "#visualizing nulls\n",
    "\n",
    "msnum.matrix(df)"
   ]
  },
  {
   "cell_type": "code",
   "execution_count": 8,
   "id": "00950704",
   "metadata": {},
   "outputs": [
    {
     "data": {
      "text/html": [
       "<div>\n",
       "<style scoped>\n",
       "    .dataframe tbody tr th:only-of-type {\n",
       "        vertical-align: middle;\n",
       "    }\n",
       "\n",
       "    .dataframe tbody tr th {\n",
       "        vertical-align: top;\n",
       "    }\n",
       "\n",
       "    .dataframe thead th {\n",
       "        text-align: right;\n",
       "    }\n",
       "</style>\n",
       "<table border=\"1\" class=\"dataframe\">\n",
       "  <thead>\n",
       "    <tr style=\"text-align: right;\">\n",
       "      <th></th>\n",
       "      <th>Location</th>\n",
       "      <th>Count</th>\n",
       "    </tr>\n",
       "  </thead>\n",
       "  <tbody>\n",
       "    <tr>\n",
       "      <th>0</th>\n",
       "      <td>USA</td>\n",
       "      <td>104</td>\n",
       "    </tr>\n",
       "    <tr>\n",
       "      <th>1</th>\n",
       "      <td>New York</td>\n",
       "      <td>71</td>\n",
       "    </tr>\n",
       "    <tr>\n",
       "      <th>2</th>\n",
       "      <td>United States</td>\n",
       "      <td>50</td>\n",
       "    </tr>\n",
       "    <tr>\n",
       "      <th>3</th>\n",
       "      <td>London</td>\n",
       "      <td>45</td>\n",
       "    </tr>\n",
       "    <tr>\n",
       "      <th>4</th>\n",
       "      <td>Canada</td>\n",
       "      <td>29</td>\n",
       "    </tr>\n",
       "    <tr>\n",
       "      <th>5</th>\n",
       "      <td>Nigeria</td>\n",
       "      <td>28</td>\n",
       "    </tr>\n",
       "    <tr>\n",
       "      <th>6</th>\n",
       "      <td>UK</td>\n",
       "      <td>27</td>\n",
       "    </tr>\n",
       "    <tr>\n",
       "      <th>7</th>\n",
       "      <td>Los Angeles, CA</td>\n",
       "      <td>26</td>\n",
       "    </tr>\n",
       "    <tr>\n",
       "      <th>8</th>\n",
       "      <td>India</td>\n",
       "      <td>24</td>\n",
       "    </tr>\n",
       "    <tr>\n",
       "      <th>9</th>\n",
       "      <td>Mumbai</td>\n",
       "      <td>22</td>\n",
       "    </tr>\n",
       "    <tr>\n",
       "      <th>10</th>\n",
       "      <td>Washington, DC</td>\n",
       "      <td>21</td>\n",
       "    </tr>\n",
       "    <tr>\n",
       "      <th>11</th>\n",
       "      <td>Kenya</td>\n",
       "      <td>20</td>\n",
       "    </tr>\n",
       "    <tr>\n",
       "      <th>12</th>\n",
       "      <td>Worldwide</td>\n",
       "      <td>19</td>\n",
       "    </tr>\n",
       "    <tr>\n",
       "      <th>13</th>\n",
       "      <td>Chicago, IL</td>\n",
       "      <td>18</td>\n",
       "    </tr>\n",
       "    <tr>\n",
       "      <th>14</th>\n",
       "      <td>Australia</td>\n",
       "      <td>18</td>\n",
       "    </tr>\n",
       "  </tbody>\n",
       "</table>\n",
       "</div>"
      ],
      "text/plain": [
       "           Location  Count\n",
       "0               USA    104\n",
       "1          New York     71\n",
       "2     United States     50\n",
       "3            London     45\n",
       "4            Canada     29\n",
       "5           Nigeria     28\n",
       "6                UK     27\n",
       "7   Los Angeles, CA     26\n",
       "8             India     24\n",
       "9            Mumbai     22\n",
       "10   Washington, DC     21\n",
       "11            Kenya     20\n",
       "12        Worldwide     19\n",
       "13      Chicago, IL     18\n",
       "14        Australia     18"
      ]
     },
     "execution_count": 8,
     "metadata": {},
     "output_type": "execute_result"
    }
   ],
   "source": [
    "#top 15 locations\n",
    "\n",
    "n = 15\n",
    "lcs = df['location'].value_counts().index.tolist()[:n]\n",
    "lcsCount = df['location'].value_counts().values.tolist()[:n]\n",
    "\n",
    "TopLocations = pd.DataFrame(list(zip(lcs, lcsCount)), columns =['Location', 'Count'])\n",
    "TopLocations"
   ]
  },
  {
   "cell_type": "code",
   "execution_count": 9,
   "id": "6b1ba240",
   "metadata": {},
   "outputs": [
    {
     "data": {
      "text/html": [
       "<div>\n",
       "<style scoped>\n",
       "    .dataframe tbody tr th:only-of-type {\n",
       "        vertical-align: middle;\n",
       "    }\n",
       "\n",
       "    .dataframe tbody tr th {\n",
       "        vertical-align: top;\n",
       "    }\n",
       "\n",
       "    .dataframe thead th {\n",
       "        text-align: right;\n",
       "    }\n",
       "</style>\n",
       "<table border=\"1\" class=\"dataframe\">\n",
       "  <thead>\n",
       "    <tr style=\"text-align: right;\">\n",
       "      <th></th>\n",
       "      <th>keyword</th>\n",
       "      <th>Count</th>\n",
       "    </tr>\n",
       "  </thead>\n",
       "  <tbody>\n",
       "    <tr>\n",
       "      <th>0</th>\n",
       "      <td>fatalities</td>\n",
       "      <td>45</td>\n",
       "    </tr>\n",
       "    <tr>\n",
       "      <th>1</th>\n",
       "      <td>deluge</td>\n",
       "      <td>42</td>\n",
       "    </tr>\n",
       "    <tr>\n",
       "      <th>2</th>\n",
       "      <td>armageddon</td>\n",
       "      <td>42</td>\n",
       "    </tr>\n",
       "    <tr>\n",
       "      <th>3</th>\n",
       "      <td>damage</td>\n",
       "      <td>41</td>\n",
       "    </tr>\n",
       "    <tr>\n",
       "      <th>4</th>\n",
       "      <td>sinking</td>\n",
       "      <td>41</td>\n",
       "    </tr>\n",
       "    <tr>\n",
       "      <th>5</th>\n",
       "      <td>harm</td>\n",
       "      <td>41</td>\n",
       "    </tr>\n",
       "    <tr>\n",
       "      <th>6</th>\n",
       "      <td>body%20bags</td>\n",
       "      <td>41</td>\n",
       "    </tr>\n",
       "    <tr>\n",
       "      <th>7</th>\n",
       "      <td>fear</td>\n",
       "      <td>40</td>\n",
       "    </tr>\n",
       "    <tr>\n",
       "      <th>8</th>\n",
       "      <td>windstorm</td>\n",
       "      <td>40</td>\n",
       "    </tr>\n",
       "    <tr>\n",
       "      <th>9</th>\n",
       "      <td>siren</td>\n",
       "      <td>40</td>\n",
       "    </tr>\n",
       "    <tr>\n",
       "      <th>10</th>\n",
       "      <td>outbreak</td>\n",
       "      <td>40</td>\n",
       "    </tr>\n",
       "    <tr>\n",
       "      <th>11</th>\n",
       "      <td>twister</td>\n",
       "      <td>40</td>\n",
       "    </tr>\n",
       "    <tr>\n",
       "      <th>12</th>\n",
       "      <td>evacuate</td>\n",
       "      <td>40</td>\n",
       "    </tr>\n",
       "    <tr>\n",
       "      <th>13</th>\n",
       "      <td>collided</td>\n",
       "      <td>40</td>\n",
       "    </tr>\n",
       "    <tr>\n",
       "      <th>14</th>\n",
       "      <td>wreckage</td>\n",
       "      <td>39</td>\n",
       "    </tr>\n",
       "  </tbody>\n",
       "</table>\n",
       "</div>"
      ],
      "text/plain": [
       "        keyword  Count\n",
       "0    fatalities     45\n",
       "1        deluge     42\n",
       "2    armageddon     42\n",
       "3        damage     41\n",
       "4       sinking     41\n",
       "5          harm     41\n",
       "6   body%20bags     41\n",
       "7          fear     40\n",
       "8     windstorm     40\n",
       "9         siren     40\n",
       "10     outbreak     40\n",
       "11      twister     40\n",
       "12     evacuate     40\n",
       "13     collided     40\n",
       "14     wreckage     39"
      ]
     },
     "execution_count": 9,
     "metadata": {},
     "output_type": "execute_result"
    }
   ],
   "source": [
    "#top 15 keywords\n",
    "\n",
    "n = 15\n",
    "kw = df['keyword'].value_counts().index.tolist()[:n]\n",
    "kwCount = df['keyword'].value_counts().values.tolist()[:n]\n",
    "\n",
    "TopKeywords = pd.DataFrame(list(zip(kw, kwCount)), columns =['keyword', 'Count'])\n",
    "TopKeywords"
   ]
  },
  {
   "cell_type": "code",
   "execution_count": 10,
   "id": "68dee185",
   "metadata": {},
   "outputs": [],
   "source": [
    "#tweet cleaning function\n",
    "\n",
    "def cleanText(text):\n",
    "    text=re.sub(r'(@|#)[a-zA-Z0-9_]+','',text) # remove hashtags and usernames\n",
    "    text=re.sub(r'https?:\\/\\/\\S+',' ',text) #removing hyperlinks\n",
    "    text=re.sub(r'\\W',' ',text) #removing special characters\n",
    "    text=re.sub(r'\\d','',text) #removing special characters\n",
    "    text=re.sub(r'(^\\s+)','',text)  #removing space in front text \n",
    "    text=re.sub(r'(\\s+$)','',text) #removing space in tail text \n",
    "    text=re.sub(r'\\s[0-9]+\\s','',text) #removing numbers\n",
    "    text=text.lower() #making all text in lowercase\n",
    "    return text"
   ]
  },
  {
   "cell_type": "code",
   "execution_count": 11,
   "id": "9f64a5bf",
   "metadata": {},
   "outputs": [
    {
     "data": {
      "text/html": [
       "<div>\n",
       "<style scoped>\n",
       "    .dataframe tbody tr th:only-of-type {\n",
       "        vertical-align: middle;\n",
       "    }\n",
       "\n",
       "    .dataframe tbody tr th {\n",
       "        vertical-align: top;\n",
       "    }\n",
       "\n",
       "    .dataframe thead th {\n",
       "        text-align: right;\n",
       "    }\n",
       "</style>\n",
       "<table border=\"1\" class=\"dataframe\">\n",
       "  <thead>\n",
       "    <tr style=\"text-align: right;\">\n",
       "      <th></th>\n",
       "      <th>like</th>\n",
       "      <th>û_</th>\n",
       "      <th>amp</th>\n",
       "      <th>fire</th>\n",
       "      <th>get</th>\n",
       "      <th>new</th>\n",
       "      <th>via</th>\n",
       "      <th>people</th>\n",
       "      <th>one</th>\n",
       "      <th>video</th>\n",
       "    </tr>\n",
       "  </thead>\n",
       "  <tbody>\n",
       "    <tr>\n",
       "      <th>0</th>\n",
       "      <td>348</td>\n",
       "      <td>344</td>\n",
       "      <td>344</td>\n",
       "      <td>250</td>\n",
       "      <td>229</td>\n",
       "      <td>226</td>\n",
       "      <td>220</td>\n",
       "      <td>198</td>\n",
       "      <td>196</td>\n",
       "      <td>161</td>\n",
       "    </tr>\n",
       "  </tbody>\n",
       "</table>\n",
       "</div>"
      ],
      "text/plain": [
       "   like   û_  amp  fire  get  new  via  people  one  video\n",
       "0   348  344  344   250  229  226  220     198  196    161"
      ]
     },
     "execution_count": 11,
     "metadata": {},
     "output_type": "execute_result"
    }
   ],
   "source": [
    "#most common words before stemming and removing stop words\n",
    "\n",
    "wordsCount = {}\n",
    "for tweet in df['text']:\n",
    "    newTweet = cleanText(tweet).split()\n",
    "    \n",
    "    for word in newTweet:\n",
    "        \n",
    "        if word in stop_words:\n",
    "            continue\n",
    "        \n",
    "        if word in wordsCount:\n",
    "            wordsCount[word] += 1\n",
    "        \n",
    "        else:\n",
    "            wordsCount[word] = 1\n",
    "\n",
    "            \n",
    "#sorting the dictionary\n",
    "\n",
    "N = 10\n",
    "wordsCount = dict(sorted(wordsCount.items(), key=operator.itemgetter(1), reverse=True)[:N])\n",
    "pd.DataFrame([wordsCount])"
   ]
  },
  {
   "cell_type": "code",
   "execution_count": 12,
   "id": "cdf5631b",
   "metadata": {},
   "outputs": [
    {
     "data": {
      "text/html": [
       "<div>\n",
       "<style scoped>\n",
       "    .dataframe tbody tr th:only-of-type {\n",
       "        vertical-align: middle;\n",
       "    }\n",
       "\n",
       "    .dataframe tbody tr th {\n",
       "        vertical-align: top;\n",
       "    }\n",
       "\n",
       "    .dataframe thead th {\n",
       "        text-align: right;\n",
       "    }\n",
       "</style>\n",
       "<table border=\"1\" class=\"dataframe\">\n",
       "  <thead>\n",
       "    <tr style=\"text-align: right;\">\n",
       "      <th></th>\n",
       "      <th>the</th>\n",
       "      <th>a</th>\n",
       "      <th>in</th>\n",
       "      <th>to</th>\n",
       "      <th>of</th>\n",
       "      <th>i</th>\n",
       "      <th>and</th>\n",
       "      <th>is</th>\n",
       "      <th>s</th>\n",
       "      <th>you</th>\n",
       "    </tr>\n",
       "  </thead>\n",
       "  <tbody>\n",
       "    <tr>\n",
       "      <th>0</th>\n",
       "      <td>3276</td>\n",
       "      <td>2217</td>\n",
       "      <td>1985</td>\n",
       "      <td>1949</td>\n",
       "      <td>1830</td>\n",
       "      <td>1791</td>\n",
       "      <td>1426</td>\n",
       "      <td>949</td>\n",
       "      <td>924</td>\n",
       "      <td>902</td>\n",
       "    </tr>\n",
       "  </tbody>\n",
       "</table>\n",
       "</div>"
      ],
      "text/plain": [
       "    the     a    in    to    of     i   and   is    s  you\n",
       "0  3276  2217  1985  1949  1830  1791  1426  949  924  902"
      ]
     },
     "execution_count": 12,
     "metadata": {},
     "output_type": "execute_result"
    }
   ],
   "source": [
    "#most common stop words before stemming\n",
    "\n",
    "stopWordsCount = {}\n",
    "for tweet in df['text']:\n",
    "    newTweet = cleanText(tweet).split()\n",
    "    \n",
    "    for word in newTweet:\n",
    "        \n",
    "        if word not in stop_words:\n",
    "            continue\n",
    "            \n",
    "        if word in stopWordsCount:\n",
    "            stopWordsCount[word] += 1\n",
    "            \n",
    "        else:\n",
    "            stopWordsCount[word] = 1\n",
    "\n",
    "            \n",
    "#sorting the dictionary\n",
    "\n",
    "N = 10\n",
    "stopWordsCount = dict(sorted(stopWordsCount.items(), key=operator.itemgetter(1), reverse=True)[:N])\n",
    "pd.DataFrame([stopWordsCount])"
   ]
  },
  {
   "cell_type": "code",
   "execution_count": 13,
   "id": "ebc5ba4c",
   "metadata": {},
   "outputs": [],
   "source": [
    "#tweets processing function\n",
    "\n",
    "def ProcessTweets(tweets):\n",
    "    cleanTweets=[]\n",
    "    for tweet in tweets:\n",
    "        \n",
    "        #cleaning tweets\n",
    "        tweet=cleanText(tweet)\n",
    "        \n",
    "        #tokenization\n",
    "        tweet=tweet.split()\n",
    "        \n",
    "        #removing Stopwords\n",
    "        tweet=[token for token in tweet if len(token) > 2  and token not in stop_words]\n",
    "        \n",
    "        #stemming\n",
    "        ps = PorterStemmer()\n",
    "        tweet=[ps.stem(word) for word in  tweet]\n",
    "        \n",
    "        cleanTweets.append(tweet)\n",
    "        \n",
    "    return cleanTweets"
   ]
  },
  {
   "cell_type": "code",
   "execution_count": 14,
   "id": "8622d3b2",
   "metadata": {},
   "outputs": [],
   "source": [
    "#processing all tweets in the dataset\n",
    "\n",
    "df['text'] = ProcessTweets(df['text'])"
   ]
  },
  {
   "cell_type": "code",
   "execution_count": 15,
   "id": "188568b9",
   "metadata": {},
   "outputs": [
    {
     "data": {
      "text/html": [
       "<div>\n",
       "<style scoped>\n",
       "    .dataframe tbody tr th:only-of-type {\n",
       "        vertical-align: middle;\n",
       "    }\n",
       "\n",
       "    .dataframe tbody tr th {\n",
       "        vertical-align: top;\n",
       "    }\n",
       "\n",
       "    .dataframe thead th {\n",
       "        text-align: right;\n",
       "    }\n",
       "</style>\n",
       "<table border=\"1\" class=\"dataframe\">\n",
       "  <thead>\n",
       "    <tr style=\"text-align: right;\">\n",
       "      <th></th>\n",
       "      <th>like</th>\n",
       "      <th>fire</th>\n",
       "      <th>amp</th>\n",
       "      <th>get</th>\n",
       "      <th>bomb</th>\n",
       "      <th>new</th>\n",
       "      <th>via</th>\n",
       "      <th>one</th>\n",
       "      <th>peopl</th>\n",
       "      <th>time</th>\n",
       "    </tr>\n",
       "  </thead>\n",
       "  <tbody>\n",
       "    <tr>\n",
       "      <th>0</th>\n",
       "      <td>410</td>\n",
       "      <td>358</td>\n",
       "      <td>344</td>\n",
       "      <td>311</td>\n",
       "      <td>237</td>\n",
       "      <td>226</td>\n",
       "      <td>220</td>\n",
       "      <td>206</td>\n",
       "      <td>199</td>\n",
       "      <td>181</td>\n",
       "    </tr>\n",
       "  </tbody>\n",
       "</table>\n",
       "</div>"
      ],
      "text/plain": [
       "   like  fire  amp  get  bomb  new  via  one  peopl  time\n",
       "0   410   358  344  311   237  226  220  206    199   181"
      ]
     },
     "execution_count": 15,
     "metadata": {},
     "output_type": "execute_result"
    }
   ],
   "source": [
    "#most common words after processing tweets\n",
    "\n",
    "wordsCount = {}\n",
    "for tweet in df['text']:\n",
    "    for word in tweet:\n",
    "        \n",
    "        if word in wordsCount:\n",
    "            wordsCount[word] += 1\n",
    "        \n",
    "        else:\n",
    "            wordsCount[word] = 1\n",
    "\n",
    "            \n",
    "#sorting the dictionary\n",
    "\n",
    "N = 10\n",
    "wordsCount = dict(sorted(wordsCount.items(), key=operator.itemgetter(1), reverse=True)[:N])\n",
    "pd.DataFrame([wordsCount])"
   ]
  },
  {
   "cell_type": "code",
   "execution_count": 16,
   "id": "6bcd048f",
   "metadata": {},
   "outputs": [
    {
     "name": "stdout",
     "output_type": "stream",
     "text": [
      "3271\n",
      "4342\n"
     ]
    }
   ],
   "source": [
    "#splitting positvie and negative tweets (indicates disaster = positive (1) , does not indicate disaster = negative (0))\n",
    "\n",
    "positiveTweets = []\n",
    "negativeTweets = []\n",
    "\n",
    "for i in range(len(df['target'])):\n",
    "    \n",
    "    if df['target'][i] == 1:\n",
    "        positiveTweets.append(df['text'][i])\n",
    "    \n",
    "    elif df['target'][i] == 0:\n",
    "        negativeTweets.append(df['text'][i])\n",
    "               \n",
    "print(len(positiveTweets))\n",
    "print(len(negativeTweets))"
   ]
  },
  {
   "cell_type": "code",
   "execution_count": 17,
   "id": "f42ca132",
   "metadata": {},
   "outputs": [],
   "source": [
    "tweets = []\n",
    "labels = []\n",
    "for i in range(len(positiveTweets)):\n",
    "    if i < len(negativeTweets):\n",
    "        tweets.append(positiveTweets[i])\n",
    "        tweets.append(negativeTweets[i])\n",
    "        labels.append(1)\n",
    "        labels.append(0)\n",
    "    else:\n",
    "        tweets.append(positiveTweets[i])\n",
    "        labels.append(1)"
   ]
  },
  {
   "cell_type": "code",
   "execution_count": 18,
   "id": "cd19f483",
   "metadata": {},
   "outputs": [
    {
     "name": "stdout",
     "output_type": "stream",
     "text": [
      "{'deed': [1, 1], 'reason': [8, 18], 'may': [50, 29], 'allah': [4, 0]}\n"
     ]
    }
   ],
   "source": [
    "#word frequencies builder function\n",
    "\n",
    "def BuildFrequencies(tweets,labels):\n",
    "    freq={}\n",
    "    \n",
    "    for i in range(len(tweets)):\n",
    "        \n",
    "        for word in tweets[i]:\n",
    "            key=word\n",
    "            \n",
    "            if key not in freq.keys():\n",
    "                \n",
    "                if labels[i]==1:\n",
    "                    freq[key]=[1,0]\n",
    "                else:\n",
    "                    freq[key]=[0,1]\n",
    "                    \n",
    "            else:\n",
    "                if labels[i]==1:\n",
    "                    freq[key][0]+=1\n",
    "                else:\n",
    "                    freq[key][1]+=1\n",
    "\n",
    "    return freq\n",
    "\n",
    "freqDict=BuildFrequencies(tweets,labels)\n",
    "\n",
    "#checking newly created frequency dicts\n",
    "print(dict(islice(freqDict.items(), 0, 4)))"
   ]
  },
  {
   "cell_type": "code",
   "execution_count": 19,
   "id": "511d5cc6",
   "metadata": {},
   "outputs": [],
   "source": [
    "#Building Features function\n",
    "\n",
    "def buildFeatures(tweets,freqs):\n",
    "    features=[]\n",
    "    \n",
    "    for tweet in tweets:\n",
    "        X=[1,0,0]\n",
    "        for word in tweet:\n",
    "            \n",
    "            #checking if word in frequencies dictionary to prevent errors when testing\n",
    "            if word in freqs:\n",
    "                X[1]+=freqs.get(word,0)[0]\n",
    "                X[2]+=freqs.get(word,0)[1]\n",
    "            else:\n",
    "                continue\n",
    "                              \n",
    "        features.append(X)\n",
    "\n",
    "    return features"
   ]
  },
  {
   "cell_type": "code",
   "execution_count": 20,
   "id": "d6686782",
   "metadata": {},
   "outputs": [
    {
     "data": {
      "text/plain": [
       "(6542, 3)"
      ]
     },
     "execution_count": 20,
     "metadata": {},
     "output_type": "execute_result"
    }
   ],
   "source": [
    "#building the features and checking its shape\n",
    "\n",
    "features=buildFeatures(tweets,freqDict)\n",
    "X=np.array(features)\n",
    "X.shape"
   ]
  },
  {
   "cell_type": "code",
   "execution_count": 21,
   "id": "b028b41a",
   "metadata": {},
   "outputs": [],
   "source": [
    "#splitting data into train and test sets\n",
    "\n",
    "train_X,test_X,train_y,test_y=train_test_split(X,np.array(labels),test_size=0.2)"
   ]
  },
  {
   "cell_type": "markdown",
   "id": "c217cab0",
   "metadata": {},
   "source": [
    "# Choosing the ML Model"
   ]
  },
  {
   "cell_type": "code",
   "execution_count": 22,
   "id": "885b842d",
   "metadata": {},
   "outputs": [],
   "source": [
    "#creating models\n",
    "\n",
    "models = [['LogisticRegression : ', LogisticRegression()],\n",
    "          ['KNN : ', KNeighborsClassifier()],\n",
    "          ['SVM : ', SVC()],\n",
    "          ['DecisionTree : ', DecisionTreeClassifier(random_state=0)],\n",
    "          ['RandomForest : ', RandomForestClassifier(random_state=0)],\n",
    "          ['XGBoost : ', XGBClassifier()],\n",
    "          ['NaiveBayes : ', GaussianNB()]]"
   ]
  },
  {
   "cell_type": "code",
   "execution_count": 23,
   "id": "6add0e8b",
   "metadata": {},
   "outputs": [
    {
     "name": "stdout",
     "output_type": "stream",
     "text": [
      "LogisticRegression : \n",
      "Training:  77.0 %\n",
      "Testing: \n",
      "    accuarcy:  80.0 %\n",
      "    F1 score:  80.0 %\n",
      "=============================\n",
      "KNN : \n",
      "Training:  83.0 %\n",
      "Testing: \n",
      "    accuarcy:  78.0 %\n",
      "    F1 score:  78.0 %\n",
      "=============================\n",
      "SVM : \n",
      "Training:  78.0 %\n",
      "Testing: \n",
      "    accuarcy:  81.0 %\n",
      "    F1 score:  80.0 %\n",
      "=============================\n",
      "DecisionTree : \n",
      "Training:  98.0 %\n",
      "Testing: \n",
      "    accuarcy:  72.0 %\n",
      "    F1 score:  73.0 %\n",
      "=============================\n",
      "RandomForest : \n",
      "Training:  98.0 %\n",
      "Testing: \n",
      "    accuarcy:  78.0 %\n",
      "    F1 score:  78.0 %\n",
      "=============================\n"
     ]
    },
    {
     "name": "stderr",
     "output_type": "stream",
     "text": [
      "C:\\Users\\Moham\\anaconda3\\lib\\site-packages\\xgboost\\sklearn.py:1224: UserWarning: The use of label encoder in XGBClassifier is deprecated and will be removed in a future release. To remove this warning, do the following: 1) Pass option use_label_encoder=False when constructing XGBClassifier object; and 2) Encode your labels (y) as integers starting with 0, i.e. 0, 1, 2, ..., [num_class - 1].\n",
      "  warnings.warn(label_encoder_deprecation_msg, UserWarning)\n"
     ]
    },
    {
     "name": "stdout",
     "output_type": "stream",
     "text": [
      "[14:56:42] WARNING: C:/Users/Administrator/workspace/xgboost-win64_release_1.5.1/src/learner.cc:1115: Starting in XGBoost 1.3.0, the default evaluation metric used with the objective 'binary:logistic' was changed from 'error' to 'logloss'. Explicitly set eval_metric if you'd like to restore the old behavior.\n",
      "XGBoost : \n",
      "Training:  86.0 %\n",
      "Testing: \n",
      "    accuarcy:  78.0 %\n",
      "    F1 score:  78.0 %\n",
      "=============================\n",
      "NaiveBayes : \n",
      "Training:  61.0 %\n",
      "Testing: \n",
      "    accuarcy:  70.0 %\n",
      "    F1 score:  63.0 %\n",
      "=============================\n"
     ]
    }
   ],
   "source": [
    "#fitting and testing models using predit\n",
    "\n",
    "for name, model in models:\n",
    "    model.fit(train_X, train_y)\n",
    "    \n",
    "    y_pred = model.predict(test_X)\n",
    "    y_pred_train = model.predict(train_X)\n",
    "    \n",
    "    print(name)\n",
    "    print(\"Training: \", round(f1_score(train_y, y_pred_train),2)*100, '%')\n",
    "    print(\"Testing: \")\n",
    "    print('    accuarcy: ',round(accuracy_score(test_y,y_pred),2)*100, '%')\n",
    "    print('    F1 score: ',round(f1_score(test_y,y_pred),2)*100, '%')\n",
    "    print(\"=============================\")"
   ]
  },
  {
   "cell_type": "markdown",
   "id": "03f82588",
   "metadata": {},
   "source": [
    "# Applying Grid Search on Random Forest Classifier"
   ]
  },
  {
   "cell_type": "code",
   "execution_count": 24,
   "id": "fa73eb93",
   "metadata": {},
   "outputs": [
    {
     "name": "stdout",
     "output_type": "stream",
     "text": [
      "RandomForestClassifier(max_depth=7, max_features=0.7, min_samples_split=6,\n",
      "                       random_state=0)\n",
      "NaiveBayes : \n",
      "Training:  80.0 %\n",
      "Testing: \n",
      "    accuarcy:  81.0 %\n",
      "    F1 score:  80.0 %\n",
      "=============================\n"
     ]
    }
   ],
   "source": [
    "rf_model = RandomForestClassifier(random_state=0)\n",
    "parameters = {\n",
    "            'n_estimators' : [100, 150, 200],\n",
    "            'max_depth' : [7, 9, 11],\n",
    "            'max_features' : [0.5, 0.7, 0.9],\n",
    "            'min_samples_split' : [2, 4, 6]\n",
    "}\n",
    "scorer = make_scorer(f1_score)\n",
    "clf = GridSearchCV(estimator=rf_model, param_grid=parameters, scoring=scorer)\n",
    "grid_fit = clf.fit(train_X, train_y)\n",
    "best_clf = grid_fit.best_estimator_\n",
    "print(best_clf)\n",
    "\n",
    "y_pred = best_clf.predict(test_X)\n",
    "y_pred_train = best_clf.predict(train_X)\n",
    "    \n",
    "print(name)\n",
    "print(\"Training: \", round(f1_score(train_y, y_pred_train),2)*100, '%')\n",
    "print(\"Testing: \")\n",
    "print('    accuarcy: ',round(accuracy_score(test_y,y_pred),2)*100, '%')\n",
    "print('    F1 score: ',round(f1_score(test_y,y_pred),2)*100, '%')\n",
    "print(\"=============================\")"
   ]
  },
  {
   "cell_type": "markdown",
   "id": "dd4365e4",
   "metadata": {},
   "source": [
    "# Applying Ensemble Learning on Random Forest Classifier"
   ]
  },
  {
   "cell_type": "code",
   "execution_count": 25,
   "id": "6827b6b8",
   "metadata": {},
   "outputs": [
    {
     "name": "stdout",
     "output_type": "stream",
     "text": [
      "Training:  74.0 %\n",
      "Testing: \n",
      "    accuarcy:  73.0 %\n",
      "    F1 score:  72.0 %\n"
     ]
    }
   ],
   "source": [
    "#bagging\n",
    "\n",
    "bag_RF = BaggingClassifier(base_estimator=best_clf, n_estimators=20, random_state=0,\n",
    "                           max_samples=0.3, max_features=0.5)\n",
    "\n",
    "bag_RF.fit(train_X, train_y)\n",
    "y_pred_bag_RF_train = bag_RF.predict(train_X)\n",
    "y_pred_bag_RF_test = bag_RF.predict(test_X)\n",
    "\n",
    "print(\"Training: \", round(f1_score(train_y,y_pred_bag_RF_train),2)*100, '%')\n",
    "print(\"Testing: \")\n",
    "print('    accuarcy: ',round(accuracy_score(test_y,y_pred_bag_RF_test),2)*100, '%')\n",
    "print('    F1 score: ',round(f1_score(test_y,y_pred_bag_RF_test),2)*100, '%')"
   ]
  },
  {
   "cell_type": "code",
   "execution_count": 26,
   "id": "02b4be68",
   "metadata": {},
   "outputs": [
    {
     "name": "stdout",
     "output_type": "stream",
     "text": [
      "Training:  91.0 %\n",
      "Testing: \n",
      "    accuarcy:  78.0 %\n",
      "    F1 score:  78.0 %\n"
     ]
    }
   ],
   "source": [
    "#boosting\n",
    "\n",
    "boost_RF = AdaBoostClassifier(base_estimator=best_clf, n_estimators=20, random_state=0)\n",
    "\n",
    "boost_RF.fit(train_X, train_y)\n",
    "y_pred_boost_RF_train = boost_RF.predict(train_X)\n",
    "y_pred_boost_RF_test = boost_RF.predict(test_X)\n",
    "\n",
    "print(\"Training: \", round(f1_score(train_y, y_pred_boost_RF_train),2)*100, '%')\n",
    "print(\"Testing: \")\n",
    "print('    accuarcy: ',round(accuracy_score(test_y,y_pred_boost_RF_test),2)*100, '%')\n",
    "print('    F1 score: ',round(f1_score(test_y,y_pred_boost_RF_test),2)*100, '%')"
   ]
  },
  {
   "cell_type": "markdown",
   "id": "7d8c9035",
   "metadata": {},
   "source": [
    "## best model is Random Forest without bagging or boosting, and it can further improved with hyperparameter tuning"
   ]
  },
  {
   "cell_type": "markdown",
   "id": "2162720d",
   "metadata": {},
   "source": [
    "# Testing Model"
   ]
  },
  {
   "cell_type": "code",
   "execution_count": 27,
   "id": "5c1e95a0",
   "metadata": {},
   "outputs": [],
   "source": [
    "#reading test set\n",
    "\n",
    "dfTest=pd.read_csv('test.csv')"
   ]
  },
  {
   "cell_type": "code",
   "execution_count": 28,
   "id": "03fd2474",
   "metadata": {},
   "outputs": [],
   "source": [
    "#processing test tweets\n",
    "\n",
    "dfTest['text']=ProcessTweets(dfTest['text'])"
   ]
  },
  {
   "cell_type": "code",
   "execution_count": 29,
   "id": "d4dc80bd",
   "metadata": {},
   "outputs": [],
   "source": [
    "#copying the tweets into a new list\n",
    "\n",
    "tweetsTest = []\n",
    "for i in range(len(dfTest['text'])):\n",
    "    tweetsTest.append(dfTest['text'][i])"
   ]
  },
  {
   "cell_type": "code",
   "execution_count": 30,
   "id": "749fbf5c",
   "metadata": {},
   "outputs": [
    {
     "data": {
      "text/plain": [
       "array([1, 0, 1, ..., 1, 1, 0])"
      ]
     },
     "execution_count": 30,
     "metadata": {},
     "output_type": "execute_result"
    }
   ],
   "source": [
    "# Testing Model\n",
    "\n",
    "testFeatures = buildFeatures(tweetsTest,freqDict)\n",
    "prediction = best_clf.predict(testFeatures)\n",
    "prediction"
   ]
  },
  {
   "cell_type": "code",
   "execution_count": null,
   "id": "4a293f85",
   "metadata": {},
   "outputs": [],
   "source": []
  }
 ],
 "metadata": {
  "kernelspec": {
   "display_name": "Python 3",
   "language": "python",
   "name": "python3"
  },
  "language_info": {
   "codemirror_mode": {
    "name": "ipython",
    "version": 3
   },
   "file_extension": ".py",
   "mimetype": "text/x-python",
   "name": "python",
   "nbconvert_exporter": "python",
   "pygments_lexer": "ipython3",
   "version": "3.8.8"
  }
 },
 "nbformat": 4,
 "nbformat_minor": 5
}
